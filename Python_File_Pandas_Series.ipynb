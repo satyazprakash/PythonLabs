{
  "nbformat": 4,
  "nbformat_minor": 0,
  "metadata": {
    "colab": {
      "provenance": [],
      "authorship_tag": "ABX9TyNl8yCbJ5xCC2qdTFEELCTK",
      "include_colab_link": true
    },
    "kernelspec": {
      "name": "python3",
      "display_name": "Python 3"
    },
    "language_info": {
      "name": "python"
    }
  },
  "cells": [
    {
      "cell_type": "markdown",
      "metadata": {
        "id": "view-in-github",
        "colab_type": "text"
      },
      "source": [
        "<a href=\"https://colab.research.google.com/github/satyazprakash/PythonLabs/blob/main/Python_File_Pandas_Series.ipynb\" target=\"_parent\"><img src=\"https://colab.research.google.com/assets/colab-badge.svg\" alt=\"Open In Colab\"/></a>"
      ]
    },
    {
      "cell_type": "code",
      "execution_count": 2,
      "metadata": {
        "colab": {
          "base_uri": "https://localhost:8080/"
        },
        "id": "n1GXmSBF8Nr_",
        "outputId": "56ce3a2b-850e-4fbc-f8d7-b8858f51344c"
      },
      "outputs": [
        {
          "output_type": "stream",
          "name": "stdout",
          "text": [
            "0    1\n",
            "1    8\n",
            "2    7\n",
            "3    6\n",
            "4    5\n",
            "5    4\n",
            "6    3\n",
            "7    2\n",
            "dtype: int64\n"
          ]
        }
      ],
      "source": [
        "# What is a Series?\n",
        "# A Pandas Series is like a column in a table.\n",
        "# It is a one-dimensional array holding data of any type.\n",
        "\n",
        "import pandas as pd\n",
        "\n",
        "a = [1,8,7,6,5,4,3,2]\n",
        "\n",
        "myvar = pd.Series(a)\n",
        "\n",
        "print(myvar)\n"
      ]
    },
    {
      "cell_type": "code",
      "source": [
        "# Labels\n",
        "# If nothing else is specified, the values are labeled with their index number. First value has index 0, second value has index 1 etc.\n",
        "# This label can be used to access a specified value.\n",
        "\n",
        "print(myvar[0])\n",
        "print(myvar[1])\n",
        "print(myvar[2])\n",
        "\n"
      ],
      "metadata": {
        "colab": {
          "base_uri": "https://localhost:8080/"
        },
        "id": "QzOisyhb9NJ0",
        "outputId": "4a467b02-92ab-441b-c49e-40542cb76397"
      },
      "execution_count": 3,
      "outputs": [
        {
          "output_type": "stream",
          "name": "stdout",
          "text": [
            "1\n",
            "8\n",
            "7\n"
          ]
        }
      ]
    },
    {
      "cell_type": "code",
      "source": [
        "# Create Labels\n",
        "# With the index argument, you can name your own labels.\n",
        "\n",
        "import pandas as pd\n",
        "a = [1,7,2]\n",
        "\n",
        "myvar = pd.Series(a, index = [\"x\",\"y\",\"z\"])\n",
        "\n",
        "print(myvar)\n",
        "\n",
        "print(myvar[\"y\"])"
      ],
      "metadata": {
        "colab": {
          "base_uri": "https://localhost:8080/"
        },
        "id": "3gK7dOoG9uMz",
        "outputId": "9dbdce27-88b3-430f-f7f8-c7b90ef72315"
      },
      "execution_count": 7,
      "outputs": [
        {
          "output_type": "stream",
          "name": "stdout",
          "text": [
            "x    1\n",
            "y    7\n",
            "z    2\n",
            "dtype: int64\n",
            "7\n"
          ]
        }
      ]
    },
    {
      "cell_type": "code",
      "source": [
        "import pandas as pd\n",
        "\n",
        "import pandas as pd\n",
        "\n",
        "calories = {\"day1\": 420, \"day2\":380, \"day3\":390}\n",
        "\n",
        "myvar = pd.Series(calories, index = [\"day1\", \"day2\"])\n",
        "\n",
        "print(myvar)\n"
      ],
      "metadata": {
        "colab": {
          "base_uri": "https://localhost:8080/"
        },
        "id": "cs4wxc52S4wN",
        "outputId": "23888f1b-f733-4b51-e1ee-7a67eab17540"
      },
      "execution_count": 2,
      "outputs": [
        {
          "output_type": "stream",
          "name": "stdout",
          "text": [
            "day1    420\n",
            "day2    380\n",
            "dtype: int64\n"
          ]
        }
      ]
    },
    {
      "cell_type": "code",
      "source": [
        "# DataFrames\n",
        "# Data sets in Pandas are usually multi-dimensional tables, called DataFrames.\n",
        "# Series is like a column, a DataFrame is the whole table.\n",
        "\n",
        "import pandas as pd\n",
        "\n",
        "data = {\n",
        "    \"calories\": [420, 380, 390],\n",
        "     \"days\": [50, 40, 45]\n",
        "}\n",
        "\n",
        "myvar = pd.DataFrame(data)\n",
        "\n",
        "print(myvar)"
      ],
      "metadata": {
        "colab": {
          "base_uri": "https://localhost:8080/"
        },
        "id": "VtZvPXuuTrwz",
        "outputId": "622d1a09-4204-4d82-ca41-b0b5291a269b"
      },
      "execution_count": 3,
      "outputs": [
        {
          "output_type": "stream",
          "name": "stdout",
          "text": [
            "   calories  days\n",
            "0       420    50\n",
            "1       380    40\n",
            "2       390    45\n"
          ]
        }
      ]
    }
  ]
}