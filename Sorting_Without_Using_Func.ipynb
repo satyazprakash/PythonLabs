{
  "nbformat": 4,
  "nbformat_minor": 0,
  "metadata": {
    "colab": {
      "provenance": [],
      "authorship_tag": "ABX9TyOgzcSXwtphyM0FV8OdXVS7",
      "include_colab_link": true
    },
    "kernelspec": {
      "name": "python3",
      "display_name": "Python 3"
    },
    "language_info": {
      "name": "python"
    }
  },
  "cells": [
    {
      "cell_type": "markdown",
      "metadata": {
        "id": "view-in-github",
        "colab_type": "text"
      },
      "source": [
        "<a href=\"https://colab.research.google.com/github/satyazprakash/PythonLabs/blob/main/Sorting_Without_Using_Func.ipynb\" target=\"_parent\"><img src=\"https://colab.research.google.com/assets/colab-badge.svg\" alt=\"Open In Colab\"/></a>"
      ]
    },
    {
      "cell_type": "code",
      "execution_count": 3,
      "metadata": {
        "colab": {
          "base_uri": "https://localhost:8080/"
        },
        "id": "qr3qtaRwF5A9",
        "outputId": "167cf5e3-e7aa-4f53-aa66-812496a88e0b"
      },
      "outputs": [
        {
          "output_type": "stream",
          "name": "stdout",
          "text": [
            "[1, 23, 45, 21, 34, 34, 21, 45, 89, 86, 67, 89, 67]\n"
          ]
        }
      ],
      "source": [
        "# Sorting Data without using sort function.\n",
        "\n",
        "list1 = [1,23,45,67,21,34,89,34,21,45,67,86,89]\n",
        "\n",
        "n = len(list1)\n",
        "\n",
        "for i in range(n):\n",
        "  for j in range (i +1, n):\n",
        "    if list1[i] > list1[1 + 1]:\n",
        "      list1[i], list1[j] = list1[j], list1[i]\n",
        "\n",
        "print(list1 )\n",
        "\n"
      ]
    }
  ]
}