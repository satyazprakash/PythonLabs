{
  "nbformat": 4,
  "nbformat_minor": 0,
  "metadata": {
    "colab": {
      "provenance": [],
      "authorship_tag": "ABX9TyOHuLjDh8kgaJDqPQYtWKBQ",
      "include_colab_link": true
    },
    "kernelspec": {
      "name": "python3",
      "display_name": "Python 3"
    },
    "language_info": {
      "name": "python"
    }
  },
  "cells": [
    {
      "cell_type": "markdown",
      "metadata": {
        "id": "view-in-github",
        "colab_type": "text"
      },
      "source": [
        "<a href=\"https://colab.research.google.com/github/satyazprakash/PythonLabs/blob/main/Sort_a_Dictionary.ipynb\" target=\"_parent\"><img src=\"https://colab.research.google.com/assets/colab-badge.svg\" alt=\"Open In Colab\"/></a>"
      ]
    },
    {
      "cell_type": "code",
      "execution_count": 7,
      "metadata": {
        "colab": {
          "base_uri": "https://localhost:8080/"
        },
        "id": "G4GYR4o5vZfN",
        "outputId": "3ba2fe78-1925-41b6-c18c-dcb46e56b900"
      },
      "outputs": [
        {
          "output_type": "stream",
          "name": "stdout",
          "text": [
            "{17: 'Dad', 21: 'Priyanka', 23: 'Satya', 42: 'Anaya', 81: 'Mom'}\n"
          ]
        }
      ],
      "source": [
        "# Sorting a Dictionary.\n",
        "\n",
        "dict1 = {23:\"Satya\", 42:\"Anaya\", 21:\"Priyanka\", 17:\"Dad\", 81 :\"Mom\"}\n",
        "\n",
        "d = sorted(dict1.keys())\n",
        "\n",
        "dict2 = {}\n",
        "\n",
        "for i in d:\n",
        "  dict2[i] = dict1[i]\n",
        "\n",
        "print(dict2)"
      ]
    },
    {
      "cell_type": "code",
      "source": [],
      "metadata": {
        "id": "2bwzxXyJvvxJ"
      },
      "execution_count": null,
      "outputs": []
    }
  ]
}