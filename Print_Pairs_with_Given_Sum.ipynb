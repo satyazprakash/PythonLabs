{
  "nbformat": 4,
  "nbformat_minor": 0,
  "metadata": {
    "colab": {
      "provenance": [],
      "authorship_tag": "ABX9TyP+u+srLUaf7DyBoYNUR/gR",
      "include_colab_link": true
    },
    "kernelspec": {
      "name": "python3",
      "display_name": "Python 3"
    },
    "language_info": {
      "name": "python"
    }
  },
  "cells": [
    {
      "cell_type": "markdown",
      "metadata": {
        "id": "view-in-github",
        "colab_type": "text"
      },
      "source": [
        "<a href=\"https://colab.research.google.com/github/satyazprakash/PythonLabs/blob/main/Print_Pairs_with_Given_Sum.ipynb\" target=\"_parent\"><img src=\"https://colab.research.google.com/assets/colab-badge.svg\" alt=\"Open In Colab\"/></a>"
      ]
    },
    {
      "cell_type": "code",
      "execution_count": 10,
      "metadata": {
        "colab": {
          "base_uri": "https://localhost:8080/"
        },
        "id": "G4GYR4o5vZfN",
        "outputId": "65a8f295-961a-4c9c-cdca-dfe088c690af"
      },
      "outputs": [
        {
          "output_type": "stream",
          "name": "stdout",
          "text": [
            "2 8\n",
            "4 6\n",
            "3 7\n",
            "3 7\n",
            "5 5\n",
            "5 5\n",
            "6 4\n",
            "7 3\n",
            "5 5\n",
            "7 3\n",
            "8 2\n"
          ]
        }
      ],
      "source": [
        "# Print all pairs with Given Sum\n",
        "\n",
        "list1 = [1,2,4,3,5,6,7,5,7,8,23,12,45,2,12,3,4,5,67 ]\n",
        "\n",
        "n = len(list1)\n",
        "\n",
        "k = 10\n",
        "\n",
        "for i in range (n):\n",
        "  for j in range (i + 1, n):\n",
        "    if (list1[i] + list1[j]) == k :\n",
        "      print(list1[i], list1[j])\n",
        "\n"
      ]
    },
    {
      "cell_type": "code",
      "source": [],
      "metadata": {
        "id": "2bwzxXyJvvxJ"
      },
      "execution_count": null,
      "outputs": []
    }
  ]
}