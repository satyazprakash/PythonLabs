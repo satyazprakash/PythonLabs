{
  "nbformat": 4,
  "nbformat_minor": 0,
  "metadata": {
    "colab": {
      "provenance": [],
      "authorship_tag": "ABX9TyOt1ffRpGFx9vqc/GVjS9DM",
      "include_colab_link": true
    },
    "kernelspec": {
      "name": "python3",
      "display_name": "Python 3"
    },
    "language_info": {
      "name": "python"
    }
  },
  "cells": [
    {
      "cell_type": "markdown",
      "metadata": {
        "id": "view-in-github",
        "colab_type": "text"
      },
      "source": [
        "<a href=\"https://colab.research.google.com/github/satyazprakash/PythonLabs/blob/main/Python_File_Pandas_DataFrame_Cleaning_data.ipynb\" target=\"_parent\"><img src=\"https://colab.research.google.com/assets/colab-badge.svg\" alt=\"Open In Colab\"/></a>"
      ]
    },
    {
      "cell_type": "markdown",
      "source": [
        "# Cleaning Data\n",
        "One of the most used method for getting a quick overview of the DataFrame, is the head() method.\n",
        "\n",
        "The head() method returns the headers and a specified number of rows, starting from the top."
      ],
      "metadata": {
        "id": "wJ4dPC3mIB58"
      }
    },
    {
      "cell_type": "code",
      "source": [
        "# Upload a file\n",
        "\n",
        "from google.colab import files\n",
        "uploaded =  files.upload()\n",
        "\n",
        "# Display the uploaded file\n",
        "for filename in uploaded.keys():\n",
        "  print(f'Uploaded file: {filename}')\n",
        "\n"
      ],
      "metadata": {
        "colab": {
          "base_uri": "https://localhost:8080/",
          "height": 90
        },
        "id": "OHzlSIWHJflQ",
        "outputId": "058c6380-2ba3-43f3-cbb6-8e55fcac7fd4"
      },
      "execution_count": null,
      "outputs": [
        {
          "output_type": "display_data",
          "data": {
            "text/plain": [
              "<IPython.core.display.HTML object>"
            ],
            "text/html": [
              "\n",
              "     <input type=\"file\" id=\"files-080e2069-ab95-41af-a59f-c7660711ad73\" name=\"files[]\" multiple disabled\n",
              "        style=\"border:none\" />\n",
              "     <output id=\"result-080e2069-ab95-41af-a59f-c7660711ad73\">\n",
              "      Upload widget is only available when the cell has been executed in the\n",
              "      current browser session. Please rerun this cell to enable.\n",
              "      </output>\n",
              "      <script>// Copyright 2017 Google LLC\n",
              "//\n",
              "// Licensed under the Apache License, Version 2.0 (the \"License\");\n",
              "// you may not use this file except in compliance with the License.\n",
              "// You may obtain a copy of the License at\n",
              "//\n",
              "//      http://www.apache.org/licenses/LICENSE-2.0\n",
              "//\n",
              "// Unless required by applicable law or agreed to in writing, software\n",
              "// distributed under the License is distributed on an \"AS IS\" BASIS,\n",
              "// WITHOUT WARRANTIES OR CONDITIONS OF ANY KIND, either express or implied.\n",
              "// See the License for the specific language governing permissions and\n",
              "// limitations under the License.\n",
              "\n",
              "/**\n",
              " * @fileoverview Helpers for google.colab Python module.\n",
              " */\n",
              "(function(scope) {\n",
              "function span(text, styleAttributes = {}) {\n",
              "  const element = document.createElement('span');\n",
              "  element.textContent = text;\n",
              "  for (const key of Object.keys(styleAttributes)) {\n",
              "    element.style[key] = styleAttributes[key];\n",
              "  }\n",
              "  return element;\n",
              "}\n",
              "\n",
              "// Max number of bytes which will be uploaded at a time.\n",
              "const MAX_PAYLOAD_SIZE = 100 * 1024;\n",
              "\n",
              "function _uploadFiles(inputId, outputId) {\n",
              "  const steps = uploadFilesStep(inputId, outputId);\n",
              "  const outputElement = document.getElementById(outputId);\n",
              "  // Cache steps on the outputElement to make it available for the next call\n",
              "  // to uploadFilesContinue from Python.\n",
              "  outputElement.steps = steps;\n",
              "\n",
              "  return _uploadFilesContinue(outputId);\n",
              "}\n",
              "\n",
              "// This is roughly an async generator (not supported in the browser yet),\n",
              "// where there are multiple asynchronous steps and the Python side is going\n",
              "// to poll for completion of each step.\n",
              "// This uses a Promise to block the python side on completion of each step,\n",
              "// then passes the result of the previous step as the input to the next step.\n",
              "function _uploadFilesContinue(outputId) {\n",
              "  const outputElement = document.getElementById(outputId);\n",
              "  const steps = outputElement.steps;\n",
              "\n",
              "  const next = steps.next(outputElement.lastPromiseValue);\n",
              "  return Promise.resolve(next.value.promise).then((value) => {\n",
              "    // Cache the last promise value to make it available to the next\n",
              "    // step of the generator.\n",
              "    outputElement.lastPromiseValue = value;\n",
              "    return next.value.response;\n",
              "  });\n",
              "}\n",
              "\n",
              "/**\n",
              " * Generator function which is called between each async step of the upload\n",
              " * process.\n",
              " * @param {string} inputId Element ID of the input file picker element.\n",
              " * @param {string} outputId Element ID of the output display.\n",
              " * @return {!Iterable<!Object>} Iterable of next steps.\n",
              " */\n",
              "function* uploadFilesStep(inputId, outputId) {\n",
              "  const inputElement = document.getElementById(inputId);\n",
              "  inputElement.disabled = false;\n",
              "\n",
              "  const outputElement = document.getElementById(outputId);\n",
              "  outputElement.innerHTML = '';\n",
              "\n",
              "  const pickedPromise = new Promise((resolve) => {\n",
              "    inputElement.addEventListener('change', (e) => {\n",
              "      resolve(e.target.files);\n",
              "    });\n",
              "  });\n",
              "\n",
              "  const cancel = document.createElement('button');\n",
              "  inputElement.parentElement.appendChild(cancel);\n",
              "  cancel.textContent = 'Cancel upload';\n",
              "  const cancelPromise = new Promise((resolve) => {\n",
              "    cancel.onclick = () => {\n",
              "      resolve(null);\n",
              "    };\n",
              "  });\n",
              "\n",
              "  // Wait for the user to pick the files.\n",
              "  const files = yield {\n",
              "    promise: Promise.race([pickedPromise, cancelPromise]),\n",
              "    response: {\n",
              "      action: 'starting',\n",
              "    }\n",
              "  };\n",
              "\n",
              "  cancel.remove();\n",
              "\n",
              "  // Disable the input element since further picks are not allowed.\n",
              "  inputElement.disabled = true;\n",
              "\n",
              "  if (!files) {\n",
              "    return {\n",
              "      response: {\n",
              "        action: 'complete',\n",
              "      }\n",
              "    };\n",
              "  }\n",
              "\n",
              "  for (const file of files) {\n",
              "    const li = document.createElement('li');\n",
              "    li.append(span(file.name, {fontWeight: 'bold'}));\n",
              "    li.append(span(\n",
              "        `(${file.type || 'n/a'}) - ${file.size} bytes, ` +\n",
              "        `last modified: ${\n",
              "            file.lastModifiedDate ? file.lastModifiedDate.toLocaleDateString() :\n",
              "                                    'n/a'} - `));\n",
              "    const percent = span('0% done');\n",
              "    li.appendChild(percent);\n",
              "\n",
              "    outputElement.appendChild(li);\n",
              "\n",
              "    const fileDataPromise = new Promise((resolve) => {\n",
              "      const reader = new FileReader();\n",
              "      reader.onload = (e) => {\n",
              "        resolve(e.target.result);\n",
              "      };\n",
              "      reader.readAsArrayBuffer(file);\n",
              "    });\n",
              "    // Wait for the data to be ready.\n",
              "    let fileData = yield {\n",
              "      promise: fileDataPromise,\n",
              "      response: {\n",
              "        action: 'continue',\n",
              "      }\n",
              "    };\n",
              "\n",
              "    // Use a chunked sending to avoid message size limits. See b/62115660.\n",
              "    let position = 0;\n",
              "    do {\n",
              "      const length = Math.min(fileData.byteLength - position, MAX_PAYLOAD_SIZE);\n",
              "      const chunk = new Uint8Array(fileData, position, length);\n",
              "      position += length;\n",
              "\n",
              "      const base64 = btoa(String.fromCharCode.apply(null, chunk));\n",
              "      yield {\n",
              "        response: {\n",
              "          action: 'append',\n",
              "          file: file.name,\n",
              "          data: base64,\n",
              "        },\n",
              "      };\n",
              "\n",
              "      let percentDone = fileData.byteLength === 0 ?\n",
              "          100 :\n",
              "          Math.round((position / fileData.byteLength) * 100);\n",
              "      percent.textContent = `${percentDone}% done`;\n",
              "\n",
              "    } while (position < fileData.byteLength);\n",
              "  }\n",
              "\n",
              "  // All done.\n",
              "  yield {\n",
              "    response: {\n",
              "      action: 'complete',\n",
              "    }\n",
              "  };\n",
              "}\n",
              "\n",
              "scope.google = scope.google || {};\n",
              "scope.google.colab = scope.google.colab || {};\n",
              "scope.google.colab._files = {\n",
              "  _uploadFiles,\n",
              "  _uploadFilesContinue,\n",
              "};\n",
              "})(self);\n",
              "</script> "
            ]
          },
          "metadata": {}
        },
        {
          "output_type": "stream",
          "name": "stdout",
          "text": [
            "Saving data_to_clean.txt to data_to_clean.txt\n",
            "Uploaded file: data_to_clean.txt\n"
          ]
        }
      ]
    },
    {
      "cell_type": "code",
      "source": [
        "import pandas as pd\n",
        "\n",
        "df = pd.read_csv('data.csv')\n",
        "\n",
        "print(df.head(10))\n"
      ],
      "metadata": {
        "colab": {
          "base_uri": "https://localhost:8080/"
        },
        "id": "0wIoHkrVJoti",
        "outputId": "56d69884-1b5c-4280-dfdc-b38b21658b0b"
      },
      "execution_count": null,
      "outputs": [
        {
          "output_type": "stream",
          "name": "stdout",
          "text": [
            "   Duration  Pulse  Maxpulse  Calories\n",
            "0        60    110       130     409.1\n",
            "1        60    117       145     479.0\n",
            "2        60    103       135     340.0\n",
            "3        45    109       175     282.4\n",
            "4        45    117       148     406.0\n",
            "5        60    102       127     300.0\n",
            "6        60    110       136     374.0\n",
            "7        45    104       134     253.3\n",
            "8        30    109       133     195.1\n",
            "9        60     98       124     269.0\n"
          ]
        }
      ]
    },
    {
      "cell_type": "code",
      "source": [
        "# Print the first 5 rows of the DataFrame:\n",
        "\n",
        "\n",
        "print(df.head(5))\n",
        "print(df.head())  # By Default it prints 5 rows."
      ],
      "metadata": {
        "colab": {
          "base_uri": "https://localhost:8080/"
        },
        "id": "TzSSj3zdJ4Vm",
        "outputId": "c33b787d-9b51-4c19-d6c5-85a1e4ad6571"
      },
      "execution_count": null,
      "outputs": [
        {
          "output_type": "stream",
          "name": "stdout",
          "text": [
            "   Duration  Pulse  Maxpulse  Calories\n",
            "0        60    110       130     409.1\n",
            "1        60    117       145     479.0\n",
            "2        60    103       135     340.0\n",
            "3        45    109       175     282.4\n",
            "4        45    117       148     406.0\n",
            "   Duration  Pulse  Maxpulse  Calories\n",
            "0        60    110       130     409.1\n",
            "1        60    117       145     479.0\n",
            "2        60    103       135     340.0\n",
            "3        45    109       175     282.4\n",
            "4        45    117       148     406.0\n"
          ]
        }
      ]
    },
    {
      "cell_type": "code",
      "source": [
        "# There is also a tail() method for viewing the last rows of the DataFrame.\n",
        "# The tail() method returns the headers and a specified number of rows, starting from the bottom.\n",
        "\n",
        "print(df.tail())\n"
      ],
      "metadata": {
        "colab": {
          "base_uri": "https://localhost:8080/"
        },
        "id": "0FUU_uClKILB",
        "outputId": "a7697d7a-73b9-45ad-ef5b-8f399d4faa76"
      },
      "execution_count": null,
      "outputs": [
        {
          "output_type": "stream",
          "name": "stdout",
          "text": [
            "     Duration  Pulse  Maxpulse  Calories\n",
            "164        60    105       140     290.8\n",
            "165        60    110       145     300.0\n",
            "166        60    115       145     310.2\n",
            "167        75    120       150     320.4\n",
            "168        75    125       150     330.4\n"
          ]
        }
      ]
    },
    {
      "cell_type": "code",
      "source": [
        "# Info About the Data\n",
        "# The DataFrames object has a method called info(), that gives you more information about the data set.\n",
        "\n",
        "print(df.info())\n",
        "\n"
      ],
      "metadata": {
        "colab": {
          "base_uri": "https://localhost:8080/"
        },
        "id": "890f6lgXKW_s",
        "outputId": "cc82a965-6641-406c-e13f-7a391d95f12e"
      },
      "execution_count": null,
      "outputs": [
        {
          "output_type": "stream",
          "name": "stdout",
          "text": [
            "<class 'pandas.core.frame.DataFrame'>\n",
            "RangeIndex: 169 entries, 0 to 168\n",
            "Data columns (total 4 columns):\n",
            " #   Column    Non-Null Count  Dtype  \n",
            "---  ------    --------------  -----  \n",
            " 0   Duration  169 non-null    int64  \n",
            " 1   Pulse     169 non-null    int64  \n",
            " 2   Maxpulse  169 non-null    int64  \n",
            " 3   Calories  164 non-null    float64\n",
            "dtypes: float64(1), int64(3)\n",
            "memory usage: 5.4 KB\n",
            "None\n"
          ]
        }
      ]
    },
    {
      "cell_type": "code",
      "source": [],
      "metadata": {
        "id": "yZ_ZFOmwLgwa"
      },
      "execution_count": null,
      "outputs": []
    },
    {
      "cell_type": "markdown",
      "source": [
        "# Pandas - Cleaning Data\n",
        "###Data cleaning means fixing bad data in your data set.\n",
        "\n",
        "###Bad data could be:\n",
        "###Empty cells\n",
        "###Data in wrong format\n",
        "###Wrong data\n",
        "###Duplicates"
      ],
      "metadata": {
        "id": "EfgFI5TdLhSw"
      }
    },
    {
      "cell_type": "code",
      "source": [
        "# Pandas - Cleaning Empty Cells\n",
        "# Empty cells can potentially give you a wrong result when you analyze data.\n",
        "\n",
        "#Remove Rows\n",
        "#One way to deal with empty cells is to remove rows that contain empty cells.\n",
        "\n",
        "# Return a new Data Frame with no empty cells:\n",
        "\n",
        "\n",
        "import pandas as pd\n",
        "\n",
        "df = pd.read_csv('data_to_clean.txt')\n",
        "\n",
        "new_df = df.dropna() # Note: By default, the dropna() method returns a new DataFrame, and will not change the original.\n",
        "\n",
        "print(new_df.to_string())\n"
      ],
      "metadata": {
        "colab": {
          "base_uri": "https://localhost:8080/"
        },
        "id": "ak9tDW8zLv4p",
        "outputId": "d1e3ce5a-3bff-438b-ff33-70c251e96eea"
      },
      "execution_count": null,
      "outputs": [
        {
          "output_type": "stream",
          "name": "stdout",
          "text": [
            "         Duration          Date  Pulse  Maxpulse  Calories\n",
            "0              60  '2020/12/01'    110       130     409.1\n",
            "1              60  '2020/12/02'    117       145     479.0\n",
            "2              60  '2020/12/03'    103       135     340.0\n",
            "3              45  '2020/12/04'    109       175     282.4\n",
            "4              45  '2020/12/05'    117       148     406.0\n",
            "5              60  '2020/12/06'    102       127     300.0\n",
            "6              60  '2020/12/07'    110       136     374.0\n",
            "7             450  '2020/12/08'    104       134     253.3\n",
            "8              30  '2020/12/09'    109       133     195.1\n",
            "9              60  '2020/12/10'     98       124     269.0\n",
            "10             60  '2020/12/11'    103       147     329.3\n",
            "11             60  '2020/12/12'    100       120     250.7\n",
            "12             60  '2020/12/12'    100       120     250.7\n",
            "13             60  '2020/12/13'    106       128     345.3\n",
            "14             60  '2020/12/14'    104       132     379.3\n",
            "15             60  '2020/12/15'     98       123     275.0\n",
            "16             60  '2020/12/16'     98       120     215.2\n",
            "17             60  '2020/12/17'    100       120     300.0\n",
            "18             45  '2020/12/18'     90       112       NaN\n",
            "19             60  '2020/12/19'    103       123     323.0\n",
            "20             45  '2020/12/20'     97       125     243.0\n",
            "21             60  '2020/12/21'    108       131     364.2\n",
            "22             45           NaN    100       119     282.0\n",
            "23             60  '2020/12/23'    130       101     300.0\n",
            "24             45  '2020/12/24'    105       132     246.0\n",
            "25             60  '2020/12/25'    102       126     334.5\n",
            "26             60    2020/12/26    100       120     250.0\n",
            "27             60  '2020/12/27'     92       118     241.0\n",
            "28             60  '2020/12/28'    103       132       NaN\n",
            "29             60  '2020/12/29'    100       132     280.0\n",
            "30             60  '2020/12/30'    102       129     380.3\n",
            "31             60  '2020/12/31'     92       115     243.0\n"
          ]
        }
      ]
    },
    {
      "cell_type": "code",
      "source": [
        "# Remove All rows with NULL values.\n",
        "# Note: Now, the dropna(inplace = True) will NOT return a new DataFrame, but it will remove all rows containing NULL values from the original DataFrame.\n",
        "\n",
        "df = pd.read_csv('data_to_clean.txt')\n",
        "\n",
        "df.dropna(inplace = True)\n",
        "\n",
        "print(df.to_string())"
      ],
      "metadata": {
        "colab": {
          "base_uri": "https://localhost:8080/"
        },
        "id": "L0fWnCZWOmyt",
        "outputId": "590b0a94-1095-49fc-aa15-5b946f0383b2"
      },
      "execution_count": null,
      "outputs": [
        {
          "output_type": "stream",
          "name": "stdout",
          "text": [
            "         Duration          Date  Pulse  Maxpulse  Calories\n",
            "0              60  '2020/12/01'    110       130     409.1\n",
            "1              60  '2020/12/02'    117       145     479.0\n",
            "2              60  '2020/12/03'    103       135     340.0\n",
            "3              45  '2020/12/04'    109       175     282.4\n",
            "4              45  '2020/12/05'    117       148     406.0\n",
            "5              60  '2020/12/06'    102       127     300.0\n",
            "6              60  '2020/12/07'    110       136     374.0\n",
            "7             450  '2020/12/08'    104       134     253.3\n",
            "8              30  '2020/12/09'    109       133     195.1\n",
            "9              60  '2020/12/10'     98       124     269.0\n",
            "10             60  '2020/12/11'    103       147     329.3\n",
            "11             60  '2020/12/12'    100       120     250.7\n",
            "12             60  '2020/12/12'    100       120     250.7\n",
            "13             60  '2020/12/13'    106       128     345.3\n",
            "14             60  '2020/12/14'    104       132     379.3\n",
            "15             60  '2020/12/15'     98       123     275.0\n",
            "16             60  '2020/12/16'     98       120     215.2\n",
            "17             60  '2020/12/17'    100       120     300.0\n",
            "18             45  '2020/12/18'     90       112       NaN\n",
            "19             60  '2020/12/19'    103       123     323.0\n",
            "20             45  '2020/12/20'     97       125     243.0\n",
            "21             60  '2020/12/21'    108       131     364.2\n",
            "22             45           NaN    100       119     282.0\n",
            "23             60  '2020/12/23'    130       101     300.0\n",
            "24             45  '2020/12/24'    105       132     246.0\n",
            "25             60  '2020/12/25'    102       126     334.5\n",
            "26             60    2020/12/26    100       120     250.0\n",
            "27             60  '2020/12/27'     92       118     241.0\n",
            "28             60  '2020/12/28'    103       132       NaN\n",
            "29             60  '2020/12/29'    100       132     280.0\n",
            "30             60  '2020/12/30'    102       129     380.3\n",
            "31             60  '2020/12/31'     92       115     243.0\n"
          ]
        }
      ]
    },
    {
      "cell_type": "code",
      "source": [
        "# Replace Empty Values\n",
        "# Another way of dealing with empty cells is to insert a new value instead.\n",
        "\n",
        "# This way you do not have to delete entire rows just because of some empty cells.\n",
        "\n",
        "# The fillna() method allows us to replace empty cells with a value:\n",
        "\n",
        "\n",
        "df = pd.read_csv('data_to_clean.txt')\n",
        "\n",
        "df.fillna(130, inplace = True)  #\n",
        "print(df.to_string())"
      ],
      "metadata": {
        "colab": {
          "base_uri": "https://localhost:8080/"
        },
        "id": "PkBDsqlgO9jQ",
        "outputId": "3f7ff9d9-5910-4b0b-97ae-2e88343e2870"
      },
      "execution_count": null,
      "outputs": [
        {
          "output_type": "stream",
          "name": "stdout",
          "text": [
            "         Duration          Date  Pulse  Maxpulse  Calories\n",
            "0              60  '2020/12/01'    110       130     409.1\n",
            "1              60  '2020/12/02'    117       145     479.0\n",
            "2              60  '2020/12/03'    103       135     340.0\n",
            "3              45  '2020/12/04'    109       175     282.4\n",
            "4              45  '2020/12/05'    117       148     406.0\n",
            "5              60  '2020/12/06'    102       127     300.0\n",
            "6              60  '2020/12/07'    110       136     374.0\n",
            "7             450  '2020/12/08'    104       134     253.3\n",
            "8              30  '2020/12/09'    109       133     195.1\n",
            "9              60  '2020/12/10'     98       124     269.0\n",
            "10             60  '2020/12/11'    103       147     329.3\n",
            "11             60  '2020/12/12'    100       120     250.7\n",
            "12             60  '2020/12/12'    100       120     250.7\n",
            "13             60  '2020/12/13'    106       128     345.3\n",
            "14             60  '2020/12/14'    104       132     379.3\n",
            "15             60  '2020/12/15'     98       123     275.0\n",
            "16             60  '2020/12/16'     98       120     215.2\n",
            "17             60  '2020/12/17'    100       120     300.0\n",
            "18             45  '2020/12/18'     90       112       NaN\n",
            "19             60  '2020/12/19'    103       123     323.0\n",
            "20             45  '2020/12/20'     97       125     243.0\n",
            "21             60  '2020/12/21'    108       131     364.2\n",
            "22             45           NaN    100       119     282.0\n",
            "23             60  '2020/12/23'    130       101     300.0\n",
            "24             45  '2020/12/24'    105       132     246.0\n",
            "25             60  '2020/12/25'    102       126     334.5\n",
            "26             60    2020/12/26    100       120     250.0\n",
            "27             60  '2020/12/27'     92       118     241.0\n",
            "28             60  '2020/12/28'    103       132       NaN\n",
            "29             60  '2020/12/29'    100       132     280.0\n",
            "30             60  '2020/12/30'    102       129     380.3\n",
            "31             60  '2020/12/31'     92       115     243.0\n"
          ]
        }
      ]
    },
    {
      "cell_type": "code",
      "source": [
        "# Replace Only For Specified Columns\n",
        "# The example above replaces all empty cells in the whole Data Frame.\n",
        "\n",
        "# To only replace empty values for one column, specify the column name for the DataFrame:\n",
        "\n",
        "\n",
        "import pandas as pd\n",
        "\n",
        "df = pd.read_csv('data_to_clean.txt')\n",
        "\n",
        "df.fillna({\"Calories\": 130}, inplace=True)\n",
        "\n",
        "print(df.to_string())\n"
      ],
      "metadata": {
        "colab": {
          "base_uri": "https://localhost:8080/"
        },
        "id": "v-3KioUKPkdS",
        "outputId": "b592a52a-77b5-4d69-8f8b-73072f0b679e"
      },
      "execution_count": null,
      "outputs": [
        {
          "output_type": "stream",
          "name": "stdout",
          "text": [
            "         Duration          Date  Pulse  Maxpulse  Calories\n",
            "0              60  '2020/12/01'    110       130     409.1\n",
            "1              60  '2020/12/02'    117       145     479.0\n",
            "2              60  '2020/12/03'    103       135     340.0\n",
            "3              45  '2020/12/04'    109       175     282.4\n",
            "4              45  '2020/12/05'    117       148     406.0\n",
            "5              60  '2020/12/06'    102       127     300.0\n",
            "6              60  '2020/12/07'    110       136     374.0\n",
            "7             450  '2020/12/08'    104       134     253.3\n",
            "8              30  '2020/12/09'    109       133     195.1\n",
            "9              60  '2020/12/10'     98       124     269.0\n",
            "10             60  '2020/12/11'    103       147     329.3\n",
            "11             60  '2020/12/12'    100       120     250.7\n",
            "12             60  '2020/12/12'    100       120     250.7\n",
            "13             60  '2020/12/13'    106       128     345.3\n",
            "14             60  '2020/12/14'    104       132     379.3\n",
            "15             60  '2020/12/15'     98       123     275.0\n",
            "16             60  '2020/12/16'     98       120     215.2\n",
            "17             60  '2020/12/17'    100       120     300.0\n",
            "18             45  '2020/12/18'     90       112       NaN\n",
            "19             60  '2020/12/19'    103       123     323.0\n",
            "20             45  '2020/12/20'     97       125     243.0\n",
            "21             60  '2020/12/21'    108       131     364.2\n",
            "22             45           NaN    100       119     282.0\n",
            "23             60  '2020/12/23'    130       101     300.0\n",
            "24             45  '2020/12/24'    105       132     246.0\n",
            "25             60  '2020/12/25'    102       126     334.5\n",
            "26             60    2020/12/26    100       120     250.0\n",
            "27             60  '2020/12/27'     92       118     241.0\n",
            "28             60  '2020/12/28'    103       132       NaN\n",
            "29             60  '2020/12/29'    100       132     280.0\n",
            "30             60  '2020/12/30'    102       129     380.3\n",
            "31             60  '2020/12/31'     92       115     243.0\n"
          ]
        }
      ]
    },
    {
      "cell_type": "code",
      "source": [
        "# Append a DataFrame at the end of another DataFrame:\n",
        "\n",
        "import pandas as pd\n",
        "\n",
        "data1 = {\n",
        "  \"age\": [16, 14, 10],\n",
        "  \"qualified\": [True, True, True]\n",
        "}\n",
        "df1 = pd.DataFrame(data1)\n",
        "\n",
        "data2 = {\n",
        "  \"age\": [55, 40],\n",
        "  \"qualified\": [True, False]\n",
        "}\n",
        "df2 = pd.DataFrame(data2)\n",
        "\n",
        "# Use pd.concat() instead of append()\n",
        "newdf = pd.concat([df1, df2])\n",
        "print(newdf)\n"
      ],
      "metadata": {
        "colab": {
          "base_uri": "https://localhost:8080/"
        },
        "id": "KJMpc5-sKfA4",
        "outputId": "6b03e76f-87de-4b5b-e3ad-af4a63fdecc8"
      },
      "execution_count": null,
      "outputs": [
        {
          "output_type": "stream",
          "name": "stdout",
          "text": [
            "   age  qualified\n",
            "0   16       True\n",
            "1   14       True\n",
            "2   10       True\n",
            "0   55       True\n",
            "1   40      False\n"
          ]
        }
      ]
    },
    {
      "cell_type": "code",
      "source": [
        "# Return a new DataFrame where the data type of all columns has been set to 'int64':\n",
        "\n",
        "import pandas as pd\n",
        "\n",
        "data = {\n",
        "  \"Duration\": [50, 40, 45],\n",
        "  \"Pulse\": [109, 117, 110],\n",
        "  \"Calories\": [409.1, 479.5, 340.8]\n",
        "}\n",
        "\n",
        "df = pd.DataFrame(data)\n",
        "\n",
        "newdf = df.astype('int64')\n",
        "\n",
        "print(newdf)"
      ],
      "metadata": {
        "colab": {
          "base_uri": "https://localhost:8080/"
        },
        "id": "5BtkMOWJLJvq",
        "outputId": "3e9b921b-12c2-4721-e997-b70c5f702f19"
      },
      "execution_count": null,
      "outputs": [
        {
          "output_type": "stream",
          "name": "stdout",
          "text": [
            "   Duration  Pulse  Calories\n",
            "0        50    109       409\n",
            "1        40    117       479\n",
            "2        45    110       340\n"
          ]
        }
      ]
    },
    {
      "cell_type": "code",
      "source": [
        "# Add a new column to the DataFrame:\n",
        "\n",
        "import pandas as pd\n",
        "\n",
        "data = {\n",
        "  \"age\": [16, 14, 10],\n",
        "  \"qualified\": [True, True, True]\n",
        "}\n",
        "df = pd.DataFrame(data)\n",
        "\n",
        "newdf = df.assign(name = [\"Emil\", \"Tobias\", \"Linus\"])\n",
        "\n",
        "print(newdf)\n",
        "\n",
        "print(df.columns)\n",
        "print(newdf.columns)\n",
        "\n",
        "copydf = df.copy()\n",
        "\n",
        "print(copydf)"
      ],
      "metadata": {
        "colab": {
          "base_uri": "https://localhost:8080/"
        },
        "id": "p0ZnobvLLk6A",
        "outputId": "ab8d6ed2-7d01-46e7-d06c-bf18b17028ea"
      },
      "execution_count": null,
      "outputs": [
        {
          "output_type": "stream",
          "name": "stdout",
          "text": [
            "   age  qualified    name\n",
            "0   16       True    Emil\n",
            "1   14       True  Tobias\n",
            "2   10       True   Linus\n",
            "Index(['age', 'qualified'], dtype='object')\n",
            "Index(['age', 'qualified', 'name'], dtype='object')\n",
            "   age  qualified\n",
            "0   16       True\n",
            "1   14       True\n",
            "2   10       True\n"
          ]
        }
      ]
    },
    {
      "cell_type": "code",
      "source": [
        "# Remove the \"age\" column from the DataFrame:\n",
        "\n",
        "import pandas as pd\n",
        "\n",
        "data = {\n",
        "  \"name\": [\"Sally\", \"Mary\", \"John\"],\n",
        "  \"age\": [50, 40, 30],\n",
        "  \"qualified\": [True, False, False]\n",
        "}\n",
        "\n",
        "df = pd.DataFrame(data)\n",
        "\n",
        "newdf = df.drop(\"age\", axis='columns')\n",
        "\n",
        "print(newdf)\n"
      ],
      "metadata": {
        "colab": {
          "base_uri": "https://localhost:8080/"
        },
        "id": "mAP7GQvwM_te",
        "outputId": "182eae0d-98fe-49a0-cfaf-d234c928db20"
      },
      "execution_count": null,
      "outputs": [
        {
          "output_type": "stream",
          "name": "stdout",
          "text": [
            "    name  qualified\n",
            "0  Sally       True\n",
            "1   Mary      False\n",
            "2   John      False\n"
          ]
        }
      ]
    },
    {
      "cell_type": "code",
      "source": [
        "# Remove duplicate rows from  the DataFrame:\n",
        "\n",
        "\n",
        "import pandas as pd\n",
        "\n",
        "data = {\n",
        "  \"name\": [\"Sally\", \"Mary\", \"John\", \"Mary\"],\n",
        "  \"age\": [50, 40, 30, 40],\n",
        "  \"qualified\": [True, False, False, False]\n",
        "}\n",
        "\n",
        "df = pd.DataFrame(data)\n",
        "print(\"Original Dataframe with duplicate: \\n\", df)\n",
        "\n",
        "newdf = df.drop_duplicates()\n",
        "print(\"Duplicates removed from dataframe : \\n\", newdf)\n"
      ],
      "metadata": {
        "colab": {
          "base_uri": "https://localhost:8080/"
        },
        "id": "OzUwIxqzNXPT",
        "outputId": "09e832e7-fdf2-4c2f-bc01-1719fdceb547"
      },
      "execution_count": null,
      "outputs": [
        {
          "output_type": "stream",
          "name": "stdout",
          "text": [
            "Original Dataframe with duplicate: \n",
            "     name  age  qualified\n",
            "0  Sally   50       True\n",
            "1   Mary   40      False\n",
            "2   John   30      False\n",
            "3   Mary   40      False\n",
            "Duplicates removed from dataframe : \n",
            "     name  age  qualified\n",
            "0  Sally   50       True\n",
            "1   Mary   40      False\n",
            "2   John   30      False\n"
          ]
        }
      ]
    },
    {
      "cell_type": "code",
      "source": [
        "# Remove all rows with NULL values from the DataFrame.\n",
        "\n",
        "import pandas as pd\n",
        "\n",
        "data = {\n",
        "  \"name\": [\"Sally\", \"Mary\", \"John\", \"Mary\"],\n",
        "  \"age\": [50, 40, None, 40],\n",
        "  \"qualified\": [True, False, False, None]\n",
        "}\n",
        "\n",
        "df = pd.DataFrame(data)\n",
        "\n",
        "print(df)\n",
        "\n",
        "newdf = df.dropna()\n",
        "\n",
        "print(newdf)\n",
        "\n",
        "print(newdf.dtypes)"
      ],
      "metadata": {
        "colab": {
          "base_uri": "https://localhost:8080/"
        },
        "id": "8tZQ9JEfOCk3",
        "outputId": "82b5b040-b356-4951-f4e5-84f7f3859f44"
      },
      "execution_count": null,
      "outputs": [
        {
          "output_type": "stream",
          "name": "stdout",
          "text": [
            "    name   age qualified\n",
            "0  Sally  50.0      True\n",
            "1   Mary  40.0     False\n",
            "2   John   NaN     False\n",
            "3   Mary  40.0      None\n",
            "    name   age qualified\n",
            "0  Sally  50.0      True\n",
            "1   Mary  40.0     False\n",
            "name          object\n",
            "age          float64\n",
            "qualified     object\n",
            "dtype: object\n"
          ]
        }
      ]
    },
    {
      "cell_type": "code",
      "source": [
        "# Check which rows are duplicated and not:\n",
        "\n",
        "\n",
        "\n",
        "import pandas as pd\n",
        "\n",
        "data = {\n",
        "  \"name\": [\"John\", \"Mary\", \"John\", \"Sally\", \"Mary\"],\n",
        "  \"age\": [40, 30, 40, 50, 30],\n",
        "  \"city\": [\"Bergen\", \"Oslo\", \"Stavanger\", \"Oslo\", \"Oslo\"]\n",
        "}\n",
        "\n",
        "df = pd.DataFrame(data)\n",
        "\n",
        "s = df.duplicated()\n",
        "\n",
        "print(s)\n",
        "\n",
        "print(df.info)"
      ],
      "metadata": {
        "colab": {
          "base_uri": "https://localhost:8080/"
        },
        "id": "24_ziSnJPXjl",
        "outputId": "c4d3a860-e5a2-47a9-c972-7426adf3ab24"
      },
      "execution_count": null,
      "outputs": [
        {
          "output_type": "stream",
          "name": "stdout",
          "text": [
            "0    False\n",
            "1    False\n",
            "2    False\n",
            "3    False\n",
            "4     True\n",
            "dtype: bool\n",
            "<bound method DataFrame.info of     name  age       city\n",
            "0   John   40     Bergen\n",
            "1   Mary   30       Oslo\n",
            "2   John   40  Stavanger\n",
            "3  Sally   50       Oslo\n",
            "4   Mary   30       Oslo>\n"
          ]
        }
      ]
    },
    {
      "cell_type": "code",
      "source": [
        "\n",
        "import pandas as pd\n",
        "\n",
        "data = {\n",
        "  \"name\": [\"Sally\", \"Mary\", \"John\", \"Mary\"],\n",
        "  \"age\": [50, 40, None, 40],\n",
        "  \"qualified\": [True, False, False, None]\n",
        "}\n",
        "\n",
        "df = pd.DataFrame(data)\n",
        "\n",
        "print(df)\n",
        "\n",
        "newdf = df.isnull()\n",
        "\n",
        "print(newdf)\n",
        "\n",
        "print(df.shape)"
      ],
      "metadata": {
        "colab": {
          "base_uri": "https://localhost:8080/"
        },
        "id": "Dmkp-JMQQ33V",
        "outputId": "091e102a-4742-407f-fb5b-bd708ed74cac"
      },
      "execution_count": null,
      "outputs": [
        {
          "output_type": "stream",
          "name": "stdout",
          "text": [
            "    name   age qualified\n",
            "0  Sally  50.0      True\n",
            "1   Mary  40.0     False\n",
            "2   John   NaN     False\n",
            "3   Mary  40.0      None\n",
            "    name    age  qualified\n",
            "0  False  False      False\n",
            "1  False  False      False\n",
            "2  False   True      False\n",
            "3  False  False       True\n",
            "(4, 3)\n"
          ]
        }
      ]
    }
  ]
}