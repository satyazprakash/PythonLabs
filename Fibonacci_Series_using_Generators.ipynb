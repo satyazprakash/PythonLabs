{
  "nbformat": 4,
  "nbformat_minor": 0,
  "metadata": {
    "colab": {
      "provenance": [],
      "authorship_tag": "ABX9TyNmiOru1VPTp29cuqbcBNLl",
      "include_colab_link": true
    },
    "kernelspec": {
      "name": "python3",
      "display_name": "Python 3"
    },
    "language_info": {
      "name": "python"
    }
  },
  "cells": [
    {
      "cell_type": "markdown",
      "metadata": {
        "id": "view-in-github",
        "colab_type": "text"
      },
      "source": [
        "<a href=\"https://colab.research.google.com/github/satyazprakash/PythonLabs/blob/main/Fibonacci_Series_using_Generators.ipynb\" target=\"_parent\"><img src=\"https://colab.research.google.com/assets/colab-badge.svg\" alt=\"Open In Colab\"/></a>"
      ]
    },
    {
      "cell_type": "code",
      "execution_count": 2,
      "metadata": {
        "colab": {
          "base_uri": "https://localhost:8080/"
        },
        "id": "eH7ZdZJBEkyl",
        "outputId": "71cbc85c-a6b6-47a0-be84-850b4e014193"
      },
      "outputs": [
        {
          "output_type": "stream",
          "name": "stdout",
          "text": [
            "0\n",
            "1\n",
            "1\n",
            "2\n",
            "3\n",
            "5\n",
            "8\n"
          ]
        }
      ],
      "source": [
        "# Generate Fibonacci Series Using Generators\n",
        "\n",
        "def fibonnaci():\n",
        "  a,b = 0, 1\n",
        "  while True:\n",
        "    yield a\n",
        "    a,b = b, a + b\n",
        "\n",
        "f1 = fibonnaci()\n",
        "\n",
        "print(next(f1))\n",
        "print(next(f1))\n",
        "print(next(f1))\n",
        "print(next(f1))\n",
        "print(next(f1))\n",
        "print(next(f1))\n",
        "print(next(f1))"
      ]
    }
  ]
}