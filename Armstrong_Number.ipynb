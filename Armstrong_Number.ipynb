{
  "nbformat": 4,
  "nbformat_minor": 0,
  "metadata": {
    "colab": {
      "provenance": [],
      "authorship_tag": "ABX9TyNA5r4IVBhU0bo65nzyRNMV",
      "include_colab_link": true
    },
    "kernelspec": {
      "name": "python3",
      "display_name": "Python 3"
    },
    "language_info": {
      "name": "python"
    }
  },
  "cells": [
    {
      "cell_type": "markdown",
      "metadata": {
        "id": "view-in-github",
        "colab_type": "text"
      },
      "source": [
        "<a href=\"https://colab.research.google.com/github/satyazprakash/PythonLabs/blob/main/Armstrong_Number.ipynb\" target=\"_parent\"><img src=\"https://colab.research.google.com/assets/colab-badge.svg\" alt=\"Open In Colab\"/></a>"
      ]
    },
    {
      "cell_type": "code",
      "execution_count": 16,
      "metadata": {
        "colab": {
          "base_uri": "https://localhost:8080/"
        },
        "id": "G4GYR4o5vZfN",
        "outputId": "da7b6b2b-ab9d-451a-af8a-bb09f7a6db39"
      },
      "outputs": [
        {
          "output_type": "stream",
          "name": "stdout",
          "text": [
            "Enter the number to be checked for Armstrong or not : 153\n",
            "The inputted number: 153 is an Armstrong number\n"
          ]
        }
      ],
      "source": [
        "#  Program checks of the inputted number is Armstrong number or not.\n",
        "\n",
        "num= int(input(\"Enter the number to be checked for Armstrong or not : \"))\n",
        "\n",
        "# Initialize Sum of Digits\n",
        "sum = 0\n",
        "\n",
        "# find the sum of cube of each digits\n",
        "temp = num\n",
        "#digit = 0\n",
        "\n",
        "while temp > 0 :\n",
        "  digit = temp % 10 # Modulus assigns the number from division\n",
        "  sum = sum + ( digit ** 3) # Exponentation : raises to the power\n",
        "  temp = temp // 10  # Floor Division : Rounds down to nearest whole number\n",
        "\n",
        "# displaying the result\n",
        "if sum == num:\n",
        "  print (f\"The inputted number: {num} is an Armstrong number\")\n",
        "else:\n",
        "  print (f\"The inputted number: {num} is NOT an Armstrong number\")\n"
      ]
    },
    {
      "cell_type": "code",
      "source": [],
      "metadata": {
        "id": "2bwzxXyJvvxJ"
      },
      "execution_count": null,
      "outputs": []
    }
  ]
}