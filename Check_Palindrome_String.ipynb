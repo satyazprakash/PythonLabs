{
  "nbformat": 4,
  "nbformat_minor": 0,
  "metadata": {
    "colab": {
      "provenance": [],
      "authorship_tag": "ABX9TyNvgvXdMGd0bb49gRPMPqks",
      "include_colab_link": true
    },
    "kernelspec": {
      "name": "python3",
      "display_name": "Python 3"
    },
    "language_info": {
      "name": "python"
    }
  },
  "cells": [
    {
      "cell_type": "markdown",
      "metadata": {
        "id": "view-in-github",
        "colab_type": "text"
      },
      "source": [
        "<a href=\"https://colab.research.google.com/github/satyazprakash/PythonLabs/blob/main/Check_Palindrome_String.ipynb\" target=\"_parent\"><img src=\"https://colab.research.google.com/assets/colab-badge.svg\" alt=\"Open In Colab\"/></a>"
      ]
    },
    {
      "cell_type": "code",
      "execution_count": 3,
      "metadata": {
        "colab": {
          "base_uri": "https://localhost:8080/"
        },
        "id": "G4GYR4o5vZfN",
        "outputId": "191fb16b-e9b4-4bff-9924-afd27b3b87cd"
      },
      "outputs": [
        {
          "output_type": "stream",
          "name": "stdout",
          "text": [
            "Enter the string to be checked for palindrome like nitin : satya\n",
            "String is not a palindrome\n"
          ]
        }
      ],
      "source": [
        "# Whethere string is Palindrome or not.\n",
        "\n",
        "s = input(\"Enter the string to be checked for palindrome like nitin : \")\n",
        "\n",
        "if s == s[::-1]:\n",
        "  print(\"String  given is a palindrome\")\n",
        "else:\n",
        "  print(\"String is not a palindrome\")"
      ]
    },
    {
      "cell_type": "code",
      "source": [],
      "metadata": {
        "id": "2bwzxXyJvvxJ"
      },
      "execution_count": null,
      "outputs": []
    }
  ]
}